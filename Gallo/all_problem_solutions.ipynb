{
 "cells": [
  {
   "cell_type": "code",
   "execution_count": null,
   "id": "d13e3594",
   "metadata": {},
   "outputs": [
    {
     "name": "stdout",
     "output_type": "stream",
     "text": [
      "Number of kilometers above Mars: 2100.0\n",
      "\n",
      "Number of meters above Mars: 2100000.0\n",
      "\n",
      "Number of centimeters above Mars: 210000000.0\n",
      "\n",
      "Number of millimeters above Mars: 2100000000.0\n"
     ]
    }
   ],
   "source": [
    "#telemetry_python_problem1\n",
    "\n",
    "def above_mars():\n",
    "    user_choice = input(\"1   Miles\\n2   Kilometers\\nMake a selection: \")\n",
    "    if int(user_choice) == 1:\n",
    "        miles = input(\"Please enter distance above Mars in miles: \")\n",
    "        print(f\"Number of miles above Mars: {float(miles)}\\n\")\n",
    "        print(f\"Number of yards above Mars: {(float(miles) * 5280) / 3}\\n\")\n",
    "        print(f\"Number of feet above Mars: {(float(miles) * 5280)}\\n\")\n",
    "        print(f\"Number of inches above Mars: {(float(miles) * 5280) * 12}\")\n",
    "    \n",
    "    else:\n",
    "        kilometers = input(\"Please enter distance above Mars in kilometers: \")\n",
    "        print(f\"Number of kilometers above Mars: {float(kilometers)}\\n\")\n",
    "        print(f\"Number of meters above Mars: {float(kilometers) * 1000}\\n\")\n",
    "        print(f\"Number of centimeters above Mars: {(float(kilometers) * 1000) * 100}\\n\")\n",
    "        print(f\"Number of millimeters above Mars: {(float(kilometers) * 1000) * 1000}\")\n",
    "\n",
    "above_mars()"
   ]
  },
  {
   "cell_type": "code",
   "execution_count": null,
   "id": "331e7315",
   "metadata": {},
   "outputs": [
    {
     "name": "stdout",
     "output_type": "stream",
     "text": [
      "Automatron 1 makes circle pizzas with efficiency 17.67\n",
      "\n",
      "Automatron 2 makes triangle pizzas with efficiency 8.66\n",
      "\n",
      "Automatron 3 makes square pizzas with efficiency 18.00\n",
      "\n",
      "The most efficient Automatron is #3 with efficiency: 18.0\n"
     ]
    }
   ],
   "source": [
    "#resource_pythonProblem2\n",
    "\n",
    "import math\n",
    "\n",
    "#first -> 2x circles, 15in, 20 units = ((pi * (x ** 2) * 2) / units)\n",
    "#second -> 1x equilateral triangle, 20, 20 units = (((sqrt(3) / 4) * (x ** 2)) / units)\n",
    "#third -> 1x square, 18, 18 units = ((x ** 2) / units)\n",
    "\n",
    "def auto_pizza():\n",
    "    circles = float(math.pi * (((15 / 2) ** 2) * 2) / 20)\n",
    "    triangle = float(((math.sqrt(3) / 4) * (20 ** 2)) / 20)\n",
    "    square = float((18 ** 2) / 18)\n",
    "    list = [circles, triangle, square]\n",
    "    print(f\"Automatron 1 makes circle pizzas with efficiency {circles:.2f}\\n\")\n",
    "    print(f\"Automatron 2 makes triangle pizzas with efficiency {triangle:.2f}\\n\")\n",
    "    print(f\"Automatron 3 makes square pizzas with efficiency {square:.2f}\\n\")\n",
    "    if max(list) == circles:\n",
    "        print(f\"The most efficient Automatron is #1 with efficiency: {max(list)}\")\n",
    "    elif max(list) == triangle:\n",
    "        print(f\"The most efficient Automatron is #2 with efficiency: {max(list)}\")\n",
    "    else:\n",
    "        print(f\"The most efficient Automatron is #3 with efficiency: {max(list)}\")\n",
    "\n",
    "auto_pizza()"
   ]
  },
  {
   "cell_type": "code",
   "execution_count": null,
   "id": "dda50173",
   "metadata": {},
   "outputs": [
    {
     "name": "stdout",
     "output_type": "stream",
     "text": [
      "All modules fuel requirements: [24786, 48732, 42821, 30536, 38549, 44713, 17821, 42155, 23344, 29581, 47449, 47774, 28783, 39464, 32651, 49446, 39233, 29206, 21285, 23985, 35656, 22083, 39909, 26240, 31230, 49558, 48210, 27778, 49855, 49063, 18173, 30589, 21049, 47811, 23709, 38041, 40308, 36609, 35355, 21513, 42310, 17623, 29979, 19820, 26551, 49269, 18458, 33348, 26272, 40612, 34716, 39102, 23099, 48213, 27114, 41168, 27153, 40276, 39535, 47997, 30262, 23682, 46312, 18825, 23948, 28420, 25810, 28841, 49101, 44564, 42226, 19567, 49825, 34698, 22659, 27214, 31761, 25716, 25524, 38673, 27991, 19837, 20690, 29665, 42066, 40845, 38794, 48011, 34184, 25697, 42509, 18803, 28565, 28524, 28927, 24007, 27509, 44060, 23614, 32944]\n",
      "\n",
      "Total fuel required: 3332538\n"
     ]
    }
   ],
   "source": [
    "#problem3_statement\n",
    "\n",
    "import math\n",
    "\n",
    "#fuel = mass / 3, round down, subtract 2\n",
    "fuels = []\n",
    "\n",
    "with open(\"input3.txt\" , \"r\") as file:\n",
    "    for num in file:\n",
    "        fuels.append(math.floor((int(num) / 3) - 2))\n",
    "\n",
    "print(f\"All modules fuel requirements: {fuels}\\n\")\n",
    "print(f\"Total fuel required: {sum(fuels)}\")"
   ]
  }
 ],
 "metadata": {
  "kernelspec": {
   "display_name": "Python 3",
   "language": "python",
   "name": "python3"
  },
  "language_info": {
   "codemirror_mode": {
    "name": "ipython",
    "version": 3
   },
   "file_extension": ".py",
   "mimetype": "text/x-python",
   "name": "python",
   "nbconvert_exporter": "python",
   "pygments_lexer": "ipython3",
   "version": "3.13.5"
  }
 },
 "nbformat": 4,
 "nbformat_minor": 5
}
